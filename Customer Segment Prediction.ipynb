{
 "cells": [
  {
   "cell_type": "markdown",
   "metadata": {
    "id": "IX1ky952f3Sj"
   },
   "source": [
    "# Project Name : Customer Segment Prediction\n"
   ]
  },
  {
   "cell_type": "markdown",
   "metadata": {},
   "source": [
    "## Name : Sushilkumar Dhepe"
   ]
  },
  {
   "cell_type": "markdown",
   "metadata": {
    "id": "gB4hUOkTciDK"
   },
   "source": [
    "# Importing Libraries\n"
   ]
  },
  {
   "cell_type": "code",
   "execution_count": 2,
   "metadata": {
    "id": "OHdnxFPGbQl5"
   },
   "outputs": [],
   "source": [
    "import pandas as pd\n",
    "from sklearn.preprocessing import LabelEncoder\n",
    "from sklearn.model_selection import train_test_split\n",
    "from sklearn.linear_model import LogisticRegression\n",
    "from sklearn.metrics import  confusion_matrix,classification_report"
   ]
  },
  {
   "cell_type": "markdown",
   "metadata": {
    "id": "ufwT2U29cjmt"
   },
   "source": [
    "# Data gathering from the Kaggle "
   ]
  },
  {
   "cell_type": "code",
   "execution_count": 3,
   "metadata": {
    "colab": {
     "base_uri": "https://localhost:8080/"
    },
    "id": "KhGHbruDbToA",
    "outputId": "a6e62752-0353-480e-918f-0a0552d529db"
   },
   "outputs": [
    {
     "name": "stdout",
     "output_type": "stream",
     "text": [
      "<class 'pandas.core.frame.DataFrame'>\n",
      "RangeIndex: 2333 entries, 0 to 2332\n",
      "Data columns (total 6 columns):\n",
      " #   Column                 Non-Null Count  Dtype  \n",
      "---  ------                 --------------  -----  \n",
      " 0   Segment                2333 non-null   object \n",
      " 1   Territory              2333 non-null   object \n",
      " 2   Customer Date          2333 non-null   object \n",
      " 3   Net ARR                2332 non-null   float64\n",
      " 4   Composite Fleet Size   2333 non-null   int64  \n",
      " 5   Number of ELD Devices  2331 non-null   float64\n",
      "dtypes: float64(2), int64(1), object(3)\n",
      "memory usage: 109.5+ KB\n",
      "None\n"
     ]
    }
   ],
   "source": [
    "Data = pd.read_csv(\"ELD Service Provider Segmentation Dataset.csv\")\n",
    "# Explore Dataset\n",
    "print(Data.info())"
   ]
  },
  {
   "cell_type": "markdown",
   "metadata": {
    "id": "vSmOUMJgcmU5"
   },
   "source": [
    "# Data Preprocessing\n",
    "1. Data Cleaning\n",
    "2. Checking Duplicate Data\n",
    "3. Encoding Data\n",
    "4. Removing irrelavent Data/Columns"
   ]
  },
  {
   "cell_type": "code",
   "execution_count": 3,
   "metadata": {
    "colab": {
     "base_uri": "https://localhost:8080/"
    },
    "id": "Far7UPJCbUfx",
    "outputId": "d9b4c62d-f7e2-49a6-eaca-07bfbccaccab"
   },
   "outputs": [
    {
     "name": "stdout",
     "output_type": "stream",
     "text": [
      "\n",
      " Missing values : \n",
      "Segment                  0\n",
      "Territory                0\n",
      "Customer Date            0\n",
      "Net ARR                  1\n",
      "Composite Fleet Size     0\n",
      "Number of ELD Devices    2\n",
      "dtype: int64\n",
      "\n",
      " Duplicates  :\n",
      "0\n",
      "\n",
      "                         Segment  Territory   Net ARR  Composite Fleet Size  \\\n",
      "Segment                1.000000  -0.024278  0.261434              0.143073   \n",
      "Territory             -0.024278   1.000000  0.052178              0.056903   \n",
      "Net ARR                0.261434   0.052178  1.000000              0.486156   \n",
      "Composite Fleet Size   0.143073   0.056903  0.486156              1.000000   \n",
      "Number of ELD Devices  0.274427   0.042400  0.935234              0.548331   \n",
      "\n",
      "                       Number of ELD Devices  \n",
      "Segment                             0.274427  \n",
      "Territory                           0.042400  \n",
      "Net ARR                             0.935234  \n",
      "Composite Fleet Size                0.548331  \n",
      "Number of ELD Devices               1.000000   \n",
      "\n",
      "   Segment  Territory   Net ARR  Composite Fleet Size  Number of ELD Devices\n",
      "0        1         24    4200.0                   289                   10.0\n",
      "1        1         16  256212.0                  1200                  777.0\n",
      "2        1         24  412260.0                 11000                 1437.0\n",
      "3        1          5   35184.0                    94                  113.0\n",
      "4        1         27  369480.0                   650                  708.0\n"
     ]
    }
   ],
   "source": [
    " # 1/ Cleaning the data from Missing values\n",
    "print(\"\\n Missing values : \")\n",
    "print(Data.isna().sum())\n",
    "Data.dropna(axis =0 , inplace=True)\n",
    "\n",
    "# 2/ Check duplicates\n",
    "print(\"\\n Duplicates  :\")\n",
    "print(Data.duplicated().sum())\n",
    "\n",
    "# 3/ Encoding Data\n",
    "labelencoder=LabelEncoder()\n",
    "Data['Territory'] = labelencoder.fit_transform(Data['Territory'])\n",
    "Data['Segment'] = labelencoder.fit_transform(Data['Segment'])\n",
    "\n",
    "\n",
    "# 4/ Removing Unwanted columns\n",
    "print(\"\\n\",Data.corr(),\"\\n\")\n",
    "Data.drop(columns= \"Customer Date\", inplace=True)\n",
    "\n",
    "print(Data.head())"
   ]
  },
  {
   "cell_type": "markdown",
   "metadata": {
    "id": "hvkBaIzFctL1"
   },
   "source": [
    "# Data Modeling"
   ]
  },
  {
   "cell_type": "code",
   "execution_count": 4,
   "metadata": {
    "id": "O0iCsN5nbXnn"
   },
   "outputs": [],
   "source": [
    " # 1/ Splitting data\n",
    "# X --> features , Y --> Label\n",
    "\n",
    "X = Data.drop(columns='Segment')\n",
    "Y = Data.Segment\n",
    "\n",
    "  # ** Split Features & Label to train and test\n",
    "X_train, X_test, y_train, y_test = train_test_split(X, Y, test_size = 0.20,  shuffle= True ,random_state= 1 )\n",
    " "
   ]
  },
  {
   "cell_type": "code",
   "execution_count": 5,
   "metadata": {
    "colab": {
     "base_uri": "https://localhost:8080/"
    },
    "id": "Frr959FfcwyR",
    "outputId": "4d55aa84-2cf0-4ad9-9246-eb58adf39120"
   },
   "outputs": [
    {
     "name": "stderr",
     "output_type": "stream",
     "text": [
      "c:\\Users\\adi63\\anaconda3\\lib\\site-packages\\sklearn\\linear_model\\_logistic.py:763: ConvergenceWarning: lbfgs failed to converge (status=1):\n",
      "STOP: TOTAL NO. of ITERATIONS REACHED LIMIT.\n",
      "\n",
      "Increase the number of iterations (max_iter) or scale the data as shown in:\n",
      "    https://scikit-learn.org/stable/modules/preprocessing.html\n",
      "Please also refer to the documentation for alternative solver options:\n",
      "    https://scikit-learn.org/stable/modules/linear_model.html#logistic-regression\n",
      "  n_iter_i = _check_optimize_result(\n"
     ]
    },
    {
     "data": {
      "text/plain": [
       "LogisticRegression()"
      ]
     },
     "execution_count": 5,
     "metadata": {},
     "output_type": "execute_result"
    }
   ],
   "source": [
    " # 2/ Calling Logistic regression\n",
    "log_reg = LogisticRegression()\n",
    "\n",
    "  # 3/ Train data\n",
    "log_reg.fit(X_train, y_train)"
   ]
  },
  {
   "cell_type": "code",
   "execution_count": 6,
   "metadata": {
    "colab": {
     "base_uri": "https://localhost:8080/"
    },
    "id": "XxX6KHi3c1iI",
    "outputId": "d2b2d711-847f-40c4-e846-c332c9eead98"
   },
   "outputs": [
    {
     "name": "stdout",
     "output_type": "stream",
     "text": [
      "report:\n",
      "              precision    recall  f1-score   support\n",
      "\n",
      "           0       0.86      0.82      0.84       309\n",
      "           1       0.44      0.47      0.45        15\n",
      "           2       0.65      0.72      0.68       143\n",
      "\n",
      "    accuracy                           0.78       467\n",
      "   macro avg       0.65      0.67      0.66       467\n",
      "weighted avg       0.79      0.78      0.78       467\n",
      "\n"
     ]
    }
   ],
   "source": [
    "  # 4/ Predict\n",
    "y_pred = log_reg.predict(X_test)\n",
    "\n",
    " # Confisuion Matrix\n",
    "#print(confusion_matrix(y_test, y_pred))\n",
    "# 5/ Report\n",
    "report = classification_report(y_test, y_pred)\n",
    "print('report:', report, sep='\\n')\n"
   ]
  },
  {
   "cell_type": "markdown",
   "metadata": {
    "id": "ek1QF_todKvu"
   },
   "source": [
    "### The results are nothing but accuracy of data that is through out the dataset 20% dataset is having 78% of accuracy.\n"
   ]
  }
 ],
 "metadata": {
  "colab": {
   "include_colab_link": true,
   "provenance": []
  },
  "interpreter": {
   "hash": "7cd21d445e57d1e29c102de0a953d8c9f184ae60cd23c7924c68121e4a3880f6"
  },
  "kernelspec": {
   "display_name": "Python 3 (ipykernel)",
   "language": "python",
   "name": "python3"
  },
  "language_info": {
   "codemirror_mode": {
    "name": "ipython",
    "version": 3
   },
   "file_extension": ".py",
   "mimetype": "text/x-python",
   "name": "python",
   "nbconvert_exporter": "python",
   "pygments_lexer": "ipython3",
   "version": "3.9.12"
  }
 },
 "nbformat": 4,
 "nbformat_minor": 1
}
